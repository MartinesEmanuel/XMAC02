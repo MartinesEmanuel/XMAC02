{
  "cells": [
    {
      "cell_type": "markdown",
      "source": [
        "# **MÉTODOS MATEMÁTICOS PARA ANÁLISE DE DADOS**\n",
        "Emanuel Martins- 20220007043 \\\n",
        "Gabriel Fernando - 20220006028"
      ],
      "metadata": {
        "id": "gkmt7Y_raQq1"
      }
    },
    {
      "cell_type": "markdown",
      "metadata": {
        "id": "4eF7wfTdL3KN"
      },
      "source": [
        "Questão 1 \\\n",
        "Considere duas máquinas de evase de perfumes A e B. Simule uma amostra de 50 frascos produzidos pela máquina A, com média 200 ml e desvio padrão de 3 ml. Em seguida, simule uma amostra de 50 frascos produzidos pela máquina B, com média 202 ml e desvio padrão de 2 ml. \\\n",
        "Por fim, realize um teste Z com as duas amostras e informe se as máquinas A e B estão produzindo perfumes da mesma forma. Calculcar com 95% de confiança."
      ]
    },
    {
      "cell_type": "code",
      "source": [
        "import pandas as pd\n",
        "import numpy as np\n",
        "import seaborn as sns\n",
        "import matplotlib.pyplot as plt\n",
        "import scipy.stats as stats\n",
        "from statsmodels.stats import weightstats\n",
        "\n",
        "amostra_A = np.random.normal(200, 3, 50)\n",
        "amostra_B = np.random.normal(202, 2, 50)\n",
        "\n",
        "resultado, p_valor = weightstats.ztest(amostra_A, amostra_B, alternative='two-sided')\n",
        "\n",
        "print(\"Estatística Z:\", resultado)\n",
        "print(\"Valor-p:\", p_valor)\n",
        "\n",
        "alpha = 0.05\n",
        "if p_valor > alpha:\n",
        "    print(\"As máquinas A e B estão produzindo perfumes da mesma forma.\")\n",
        "else:\n",
        "    print(\"As máquinas A e B não estão produzindo perfumes da mesma forma.\")\n",
        "\n"
      ],
      "metadata": {
        "colab": {
          "base_uri": "https://localhost:8080/"
        },
        "id": "uRd9GaKpM2Gx",
        "outputId": "3797f583-c6fa-4fcc-c2fc-4f0fd15d4d89"
      },
      "execution_count": 42,
      "outputs": [
        {
          "output_type": "stream",
          "name": "stdout",
          "text": [
            "Estatística Z: -3.703067837079526\n",
            "Valor-p: 0.00021300789399674615\n",
            "As máquinas A e B não estão produzindo perfumes da mesma forma.\n"
          ]
        }
      ]
    },
    {
      "cell_type": "markdown",
      "metadata": {
        "id": "FUypV6wYL3KV"
      },
      "source": [
        "Questão 2 \\\n",
        "Considere o dataset \"penguins\" do Seaborn. Realize um teste de hipótese Z no qual a hipótese nula seja que pinguins machos têm o mesmo peso que pinguins fêmeas. O peso de cada pinguim está no campo \"body_mass_g\". Note que é preciso eliminar as linhas que contém NaN nos campos \"body_mass_g\" e \"sex\". Calcular com 95% de confiança."
      ]
    },
    {
      "cell_type": "code",
      "source": [
        "df = sns.load_dataset(\"penguins\")\n",
        "df = df.dropna(subset=[\"body_mass_g\", \"sex\"])\n",
        "\n",
        "\n",
        "amostra_machos = df[df[\"sex\"] == \"male\"][\"body_mass_g\"]\n",
        "amostra_femeas = df[df[\"sex\"] == \"female\"][\"body_mass_g\"]\n",
        "\n",
        "valor_p, estatistica_z = stats.ttest_ind(amostra_machos, amostra_femeas)\n",
        "\n",
        "\n",
        "ap = 0.05\n",
        "\n",
        "if valor_p < ap:\n",
        "    print(\"Os pinguins machos têm pesos diferentes dos pinguins fêmeas.\")\n",
        "else:\n",
        "    print(\"Não há evidências suficientes para afirmar que os pinguins machos têm pesos diferentes dos pinguins fêmeas.\")\n"
      ],
      "metadata": {
        "colab": {
          "base_uri": "https://localhost:8080/"
        },
        "id": "kfY43XbFM1b_",
        "outputId": "79899390-9af6-4b06-e53c-c1c638d40a08"
      },
      "execution_count": 43,
      "outputs": [
        {
          "output_type": "stream",
          "name": "stdout",
          "text": [
            "Não há evidências suficientes para afirmar que os pinguins machos têm pesos diferentes dos pinguins fêmeas.\n"
          ]
        }
      ]
    },
    {
      "cell_type": "markdown",
      "metadata": {
        "id": "bsZniBOXL3KY"
      },
      "source": [
        "Questão 3 \\\n",
        "Avaliou-se em 240 Kg o desvio padrão das tensões de ruptura de certos cabos produzidos por uma fábrica. Depois de ter sido introduzida uma mudança no processo de fabricação desses cabos, as tensões de ruptura de uma amostra de 8 cabos apresentaram o desvio padrão de 300 Kg. É possível afirmar que houve mudança no desvio padrão (nível de confiança: 90%)."
      ]
    },
    {
      "cell_type": "code",
      "source": [
        "\n",
        "desvio_padrao_populacao = 240\n",
        "desvio_padrao_amostra = 300\n",
        "tamanho_amostra = 8\n",
        "nivel_confianca = 0.90\n",
        "\n",
        "graus_de_liberdade = tamanho_amostra - 1\n",
        "valor_critico = stats.chi2.ppf(1 - (1 - nivel_confianca) / 2, graus_de_liberdade)\n",
        "estatistica_teste = ((tamanho_amostra - 1) * (desvio_padrao_amostra ** 2)) / (desvio_padrao_populacao ** 2)\n",
        "\n",
        "if estatistica_teste > valor_critico:\n",
        "    print(\"Houve mudança no desvio padrão das tensões de ruptura dos cabos.\")\n",
        "else:\n",
        "    print(\"Não houve mudança no desvio padrão das tensões de ruptura dos cabos.\")\n"
      ],
      "metadata": {
        "colab": {
          "base_uri": "https://localhost:8080/"
        },
        "id": "LiANR1v6SN9e",
        "outputId": "ac75b08b-49ad-464a-f7c7-59e290b3cd2c"
      },
      "execution_count": 52,
      "outputs": [
        {
          "output_type": "stream",
          "name": "stdout",
          "text": [
            "Não houve mudança no desvio padrão das tensões de ruptura dos cabos.\n"
          ]
        }
      ]
    },
    {
      "cell_type": "markdown",
      "metadata": {
        "id": "gVxgQBEaL3KZ"
      },
      "source": [
        "Questão 4 \\\n",
        "As especificações dos pentes de memória RAM para computadores fabricados pela Companhia Boa Memória indicam que a porcentagem de pentes defeituosos não excede 5%. Uma amostra de cem desses pentes apresentou sete defeituosos. \\\n",
        "Com base nesse resultado, podemos afirmar que as especificações estão incorretas? (Nível de confiança = 95%)."
      ]
    },
    {
      "cell_type": "code",
      "source": [
        "n_amostra = 100\n",
        "defeituosos_amostra = 7\n",
        "p_valor = stats.binom_test(defeituosos_amostra, n_amostra, p=0.05, alternative='two-sided')\n",
        "nivel_confianca = 0.95\n",
        "\n",
        "if p_valor < (1 - nivel_confianca):\n",
        "    conclusao = \"Rejeitar as especificações. As especificações estão incorretas.\"\n",
        "else:\n",
        "    conclusao = \"Aceitar as especificações. As especificações estão corretas.\"\n",
        "\n",
        "print(conclusao)\n"
      ],
      "metadata": {
        "colab": {
          "base_uri": "https://localhost:8080/"
        },
        "id": "EikHVTZ1S7BB",
        "outputId": "b749ed6d-be3b-43a4-c7fd-f6c238b13a50"
      },
      "execution_count": 39,
      "outputs": [
        {
          "output_type": "stream",
          "name": "stdout",
          "text": [
            "Aceitar as especificações. As especificações estão corretas.\n"
          ]
        },
        {
          "output_type": "stream",
          "name": "stderr",
          "text": [
            "<ipython-input-39-2e7bacf3f77f>:3: DeprecationWarning: 'binom_test' is deprecated in favour of 'binomtest' from version 1.7.0 and will be removed in Scipy 1.12.0.\n",
            "  p_valor = stats.binom_test(defeituosos_amostra, n_amostra, p=0.05, alternative='two-sided')\n"
          ]
        }
      ]
    },
    {
      "cell_type": "markdown",
      "metadata": {
        "id": "80kLoOirL3Kb"
      },
      "source": [
        "Questão 5 \\\n",
        "Sabe-se que o consumo mensal “per capita” de um determinado produto tem distribuição normal, com desvio padrão 2 Kg. A diretoria de uma empresa que fabrica esse produto resolveu que retiraria o produto da linha de produção se a média de consumo “per capita” fosse menor que 8 Kg. Foi realizada uma pesquisa de mercado, tomando-se uma amostra de 25 indivíduos e verificou-se que: Σ xi = 180 Kg, onde xi representa o consumo mensal do i-ésimo indivíduo da amostra. \\\n",
        "a) Com base nos resultados da amostra e com um nível de confiança de 95%, qual deveria ser a decisão da diretoria? \\\n",
        "b) Se a diretoria tivesse fixado o nível de confiança em 99% a decisão seria a mesma? Justifique sua resposta."
      ]
    },
    {
      "cell_type": "code",
      "source": [
        "n = 25\n",
        "soma_amostra = 180\n",
        "media_populacional = 8\n",
        "desvio_padrao_populacional = 2\n",
        "\n",
        "\n",
        "media_amostra = soma_amostra / n\n",
        "valor_t = (media_amostra - media_populacional) / (desvio_padrao_populacional / np.sqrt(n))\n",
        "\n",
        "t_critico = stats.t.ppf(0.05, df=n-1)\n",
        "\n",
        "if valor_t < t_critico:\n",
        "    decisao = \"Rejeitar H0. Retirar o produto da linha de produção.\"\n",
        "else:\n",
        "    decisao = \"Aceitar H0. Não retirar o produto da linha de produção.\"\n",
        "\n",
        "print(decisao)\n",
        "t_critico"
      ],
      "metadata": {
        "colab": {
          "base_uri": "https://localhost:8080/"
        },
        "id": "iIFfWkJ8Utjf",
        "outputId": "88b07c86-5e3e-4cfb-db6e-7a914e73b8c4"
      },
      "execution_count": 45,
      "outputs": [
        {
          "output_type": "stream",
          "name": "stdout",
          "text": [
            "Rejeitar H0. Retirar o produto da linha de produção.\n"
          ]
        },
        {
          "output_type": "execute_result",
          "data": {
            "text/plain": [
              "-1.7108820799094282"
            ]
          },
          "metadata": {},
          "execution_count": 45
        }
      ]
    },
    {
      "cell_type": "code",
      "source": [
        "t_critico_99 = stats.t.ppf(0.01, df=n-1)\n",
        "\n",
        "if valor_t < t_critico_99:\n",
        "    decisao = \"Rejeitar H0. Retirar o produto da linha de produção.\"\n",
        "else:\n",
        "    decisao = \"Aceitar H0. Não retirar o produto da linha de produção.\"\n",
        "\n",
        "print(decisao)"
      ],
      "metadata": {
        "colab": {
          "base_uri": "https://localhost:8080/"
        },
        "id": "bwv_yJ_YVXtt",
        "outputId": "b82172c1-30e0-4bd7-e1ec-0635d2a3655a"
      },
      "execution_count": 50,
      "outputs": [
        {
          "output_type": "stream",
          "name": "stdout",
          "text": [
            "Aceitar H0. Não retirar o produto da linha de produção.\n"
          ]
        }
      ]
    }
  ],
  "metadata": {
    "kernelspec": {
      "display_name": "base",
      "language": "python",
      "name": "python3"
    },
    "language_info": {
      "codemirror_mode": {
        "name": "ipython",
        "version": 3
      },
      "file_extension": ".py",
      "mimetype": "text/x-python",
      "name": "python",
      "nbconvert_exporter": "python",
      "pygments_lexer": "ipython3",
      "version": "3.9.7"
    },
    "orig_nbformat": 4,
    "colab": {
      "provenance": []
    }
  },
  "nbformat": 4,
  "nbformat_minor": 0
}