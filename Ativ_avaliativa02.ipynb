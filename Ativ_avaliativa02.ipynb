{
  "cells": [
    {
      "cell_type": "code",
      "execution_count": 1,
      "metadata": {
        "id": "yhHh6cJl3iaU"
      },
      "outputs": [],
      "source": [
        "import numpy as np\n",
        "import matplotlib.pyplot as plt\n",
        "import seaborn as sns\n",
        "from scipy.stats import binom, poisson, norm"
      ]
    },
    {
      "cell_type": "markdown",
      "metadata": {
        "id": "QJQuGBvI3iaW"
      },
      "source": [
        "Questão 1 \\\n",
        "Suponha que uma central telefônica recebeu 270 chamadas num período de 3 horas, ou seja, 1,5 chamadas por minuto. Deseja-se calcular a probabilidade de que nos próximos 3 minutos sejam recebidas 0, 1, 2, ..., 8 chamadas. Mostre essas probabilidades plotando um gráfico de barras (barplot)."
      ]
    },
    {
      "cell_type": "code",
      "execution_count": 17,
      "metadata": {
        "colab": {
          "base_uri": "https://localhost:8080/",
          "height": 434
        },
        "id": "VbwhV_za3iaZ",
        "outputId": "e7a9aa6b-bb6a-4a15-d9b3-245fc5182651"
      },
      "outputs": [
        {
          "output_type": "display_data",
          "data": {
            "text/plain": [
              "<Figure size 640x480 with 1 Axes>"
            ],
            "image/png": "[encoded data removed]"
          },
          "metadata": {}
        }
      ],
      "source": [
        "eixo_x = np.arange(0, 9)\n",
        "eixo_y = poisson.pmf(eixo_x, 4.5)\n",
        "sns.set_theme(style='whitegrid')\n",
        "sns.barplot(x=eixo_x, y=eixo_y)\n",
        "plt.show()"
      ]
    },
    {
      "cell_type": "markdown",
      "metadata": {
        "id": "5_h2_ONx3iaZ"
      },
      "source": [
        "Questão 2 \\\n",
        "Pesquisas indicaram que 75% dos eleitores de uma cidade são alfabetizados. Entre 16 eleitores dessa cidade, determine a probabilidade de: \\\n",
        "a) no máximo 1 ser analfabeto; \\\n",
        "b) 3 ou mais serem analfabetos; \\\n",
        "c) pelo menos 1 ser analfabeto."
      ]
    },
    {
      "cell_type": "code",
      "execution_count": 32,
      "metadata": {
        "colab": {
          "base_uri": "https://localhost:8080/"
        },
        "id": "QBLvRlPT3iaa",
        "outputId": "ade9318b-555f-40e9-aa34-2637011d4bf2"
      },
      "outputs": [
        {
          "output_type": "execute_result",
          "data": {
            "text/plain": [
              "0.0634764397982508"
            ]
          },
          "metadata": {},
          "execution_count": 32
        }
      ],
      "source": [
        "binom.cdf(1, 16, 0.25)"
      ]
    },
    {
      "cell_type": "code",
      "source": [
        "binom.sf(3, 16, 0.25) "
      ],
      "metadata": {
        "colab": {
          "base_uri": "https://localhost:8080/"
        },
        "id": "Hi_jlSO39Rz3",
        "outputId": "29613df2-5a8b-4f95-b907-8ab8d4ee77aa"
      },
      "execution_count": 29,
      "outputs": [
        {
          "output_type": "execute_result",
          "data": {
            "text/plain": [
              "0.5950128899421543"
            ]
          },
          "metadata": {},
          "execution_count": 29
        }
      ]
    },
    {
      "cell_type": "code",
      "source": [
        "binom.sf(1, 16, 0.25)"
      ],
      "metadata": {
        "colab": {
          "base_uri": "https://localhost:8080/"
        },
        "id": "DKFnEsKF-I1A",
        "outputId": "36368395-0ab5-4c8f-ce7c-c7c02014276b"
      },
      "execution_count": 34,
      "outputs": [
        {
          "output_type": "execute_result",
          "data": {
            "text/plain": [
              "0.9365235602017492"
            ]
          },
          "metadata": {},
          "execution_count": 34
        }
      ]
    },
    {
      "cell_type": "markdown",
      "metadata": {
        "id": "kyct1aYV3iab"
      },
      "source": [
        "Questão 3 \\\n",
        "Um teste de múltipla escolha apresenta 4 opções por questão, e 14 questões. Se a aprovação depende de 9 ou mais respostas corretas: \\\n",
        "a) qual a probabilidade de um estudante que responde “no chute” ser aprovado? \\\n",
        "b) se 500 estudantes fazem o teste, qual o número esperado de estudantes aprovados, tendo “chutado” as respostas?"
      ]
    },
    {
      "cell_type": "code",
      "execution_count": 72,
      "metadata": {
        "colab": {
          "base_uri": "https://localhost:8080/"
        },
        "id": "S7euG0gz3iac",
        "outputId": "245f39d9-f48b-4506-89a6-228c1904df7f"
      },
      "outputs": [
        {
          "output_type": "execute_result",
          "data": {
            "text/plain": [
              "0.002154175192117691"
            ]
          },
          "metadata": {},
          "execution_count": 72
        }
      ],
      "source": [
        "binom.sf(8, 14, 0.25)"
      ]
    },
    {
      "cell_type": "code",
      "source": [
        "binom.sf(8, 14, 0.25)*500"
      ],
      "metadata": {
        "colab": {
          "base_uri": "https://localhost:8080/"
        },
        "id": "I_W0k-e5BsgO",
        "outputId": "0daac847-a1e5-4f09-fe92-f74e34bf92f2"
      },
      "execution_count": 78,
      "outputs": [
        {
          "output_type": "execute_result",
          "data": {
            "text/plain": [
              "1.0770875960588455"
            ]
          },
          "metadata": {},
          "execution_count": 78
        }
      ]
    },
    {
      "cell_type": "markdown",
      "metadata": {
        "id": "KITEFyQn3iac"
      },
      "source": [
        "Questão 4 \\\n",
        "Um apostador que nada entende de futebol marcou um cartão de loteria esportiva, que tem 16 jogos, realizando apenas apostas simples (ou seja, marcando somente uma das três opções: time A vence, times A e B empatam, time B ganha). Plote um gráfico de barras que mostre a probabilidade de 0, 1, 2, ... 16 acertos."
      ]
    },
    {
      "cell_type": "code",
      "execution_count": 61,
      "metadata": {
        "colab": {
          "base_uri": "https://localhost:8080/",
          "height": 434
        },
        "id": "cyoLm1pt3iad",
        "outputId": "5fc8643f-ccfd-4ee2-b9d4-efb9fad268a6"
      },
      "outputs": [
        {
          "output_type": "display_data",
          "data": {
            "text/plain": [
              "<Figure size 640x480 with 1 Axes>"
            ],
            "image/png": "[encoded data removed]"
          },
          "metadata": {}
        }
      ],
      "source": [
        "eixo_x = np.arange(0, 17)\n",
        "eixo_y = binom.pmf(eixo_x, 16, 0.33)\n",
        "sns.barplot(x=eixo_x, y=eixo_y)\n",
        "plt.show()"
      ]
    },
    {
      "cell_type": "markdown",
      "metadata": {
        "id": "A60FVLuR3iae"
      },
      "source": [
        "Questão 5 \\\n",
        "Suponha que o tempo necessário para atendimento de clientes em uma central de atendimento telefônico siga\n",
        "uma distribuição normal de média de 8 minutos e desvio padrão de 2 minutos. Qual é a probabilidade de que um atendimento dure: \\\n",
        "a) 5 minutos ou menos\n",
        "b) Entre 7 e 10 minutos\n",
        "c) Mais que 9,5 minutos"
      ]
    },
    {
      "cell_type": "code",
      "execution_count": 69,
      "metadata": {
        "colab": {
          "base_uri": "https://localhost:8080/"
        },
        "id": "GoyjN0Sc3iaf",
        "outputId": "0059b89a-b70a-4c37-92c3-d1bf055b34f4"
      },
      "outputs": [
        {
          "output_type": "execute_result",
          "data": {
            "text/plain": [
              "0.06680720126885807"
            ]
          },
          "metadata": {},
          "execution_count": 69
        }
      ],
      "source": [
        "norm.cdf(5, 8, 2)"
      ]
    },
    {
      "cell_type": "code",
      "source": [
        "norm.sf(7, 8, 2) - norm.sf(10, 8, 2)"
      ],
      "metadata": {
        "colab": {
          "base_uri": "https://localhost:8080/"
        },
        "id": "qyD5dAdpFcS8",
        "outputId": "bf5c30e7-4da5-413d-9e17-642b26c507c8"
      },
      "execution_count": 68,
      "outputs": [
        {
          "output_type": "execute_result",
          "data": {
            "text/plain": [
              "0.532807207342556"
            ]
          },
          "metadata": {},
          "execution_count": 68
        }
      ]
    },
    {
      "cell_type": "code",
      "source": [
        "norm.sf(9.5, 8, 2)"
      ],
      "metadata": {
        "colab": {
          "base_uri": "https://localhost:8080/"
        },
        "id": "yYxDpyFPFcHa",
        "outputId": "5514780c-051e-481c-f0b2-7500bd7b1535"
      },
      "execution_count": 63,
      "outputs": [
        {
          "output_type": "execute_result",
          "data": {
            "text/plain": [
              "0.2266273523768682"
            ]
          },
          "metadata": {},
          "execution_count": 63
        }
      ]
    },
    {
      "cell_type": "markdown",
      "metadata": {
        "id": "1mOQqzvh3iaf"
      },
      "source": [
        "Questão 6 \\\n",
        "Uma linha de produção está sendo analisada para efeito de controle de qualidade das peças produzidas. Tendo em vista o alto padrão requerido, a produção é interrompida para regulagem toda vez que uma peça defeituosa é observada. Se 0,01 é a probabilidade da peça ser defeituosa, estude o comportamento da variável Q, quantidades de peças boas produzidas antes da primeira defeituosa. Para tanto, simule a geração de peças e conte quantas são produzidas até que a primeira defeituosa seja encontrada. Repita o processo 1.000 vezes e calcule a média.\n",
        "A média vai representar o número de peças boas são produzidas até que uma peça defeituosa seja produzida. "
      ]
    },
    {
      "cell_type": "code",
      "execution_count": 98,
      "metadata": {
        "colab": {
          "base_uri": "https://localhost:8080/"
        },
        "id": "u3xjm4qC3iaf",
        "outputId": "c9e39d35-8b68-484d-f70f-65d44afc8e96"
      },
      "outputs": [
        {
          "output_type": "execute_result",
          "data": {
            "text/plain": [
              "16516.5"
            ]
          },
          "metadata": {},
          "execution_count": 98
        }
      ],
      "source": [
        "p = np.random.binomial(1,0.01,1000)\n",
        "vetor = []\n",
        "soma = 0\n",
        "for j in range(0,1000):\n",
        "  for i in range(0,1000):\n",
        "    if p[i] == 0:\n",
        "      soma += 1 \n",
        "    if p[i] != 0:\n",
        "      break\n",
        "  vetor.append(soma)\n",
        "\n",
        "np.mean(vetor)\n"
      ]
    }
  ],
  "metadata": {
    "kernelspec": {
      "display_name": "base",
      "language": "python",
      "name": "python3"
    },
    "language_info": {
      "codemirror_mode": {
        "name": "ipython",
        "version": 3
      },
      "file_extension": ".py",
      "mimetype": "text/x-python",
      "name": "python",
      "nbconvert_exporter": "python",
      "pygments_lexer": "ipython3",
      "version": "3.10.9"
    },
    "orig_nbformat": 4,
    "colab": {
      "provenance": []
    }
  },
  "nbformat": 4,
  "nbformat_minor": 0
}